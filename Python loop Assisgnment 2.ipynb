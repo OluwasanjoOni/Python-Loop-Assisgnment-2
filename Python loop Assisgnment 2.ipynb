{
 "cells": [
  {
   "cell_type": "markdown",
   "id": "301ba9b8",
   "metadata": {},
   "source": [
    "# Python Loop Assisgnment 2\n",
    "\n"
   ]
  },
  {
   "cell_type": "code",
   "execution_count": 5,
   "id": "246cd87f",
   "metadata": {},
   "outputs": [
    {
     "data": {
      "text/plain": [
       "[2, 6, 9, 9, 15, 19]"
      ]
     },
     "execution_count": 5,
     "metadata": {},
     "output_type": "execute_result"
    }
   ],
   "source": [
    " # 1-  Write a program using the following list and sort it based on the sum of the values of the tuples of the list:\n",
    "    # [(1,5),(9,0),(12,3),(5,4),(13,6),(1,1)]\n",
    "    \n",
    "    \n",
    "    # Steps\n",
    "    #1. assisgn empty list to sum of list\n",
    "    #2. Take d sum of the elements in each tuple\n",
    "    #3. Apply append function to the addition so that the sum come one after the other.\n",
    "    #4. Apply sorted function to arrange the answer in ascending order.\n",
    "    \n",
    "    \n",
    "List = [(1,5),(9,0),(12,3),(5,4),(13,6),(1,1)]\n",
    "sum1=[]\n",
    "for i in List:\n",
    "    a=i[0]+i[1]\n",
    "    sum1.append(a)\n",
    "answer=sorted(sum1)\n",
    "answer\n"
   ]
  },
  {
   "cell_type": "code",
   "execution_count": 2,
   "id": "2469369a",
   "metadata": {},
   "outputs": [
    {
     "data": {
      "text/plain": [
       "[10, 20, 30, 40, 400, 300, 200, 100]"
      ]
     },
     "execution_count": 2,
     "metadata": {},
     "output_type": "execute_result"
    }
   ],
   "source": [
    " #2 - Given a two Python list. Iterate both lists simultaneously such that list1 should display item in original orderand list2 \n",
    "    # in reverse order: - list1 = [10, 20, 30, 40], list2 = [100, 200, 300, 400]\n",
    " \n",
    "  # Steps\n",
    "#1. Apply sorted function to list 2 to arrange in descending order\n",
    "#2. Apply extend function to add the sorted list 2 to list 1\n",
    "\n",
    " list1 = [10, 20, 30, 40]\n",
    "list2 = [100, 200, 300, 400]\n",
    "# sorted(list2, reverse=True)\n",
    "list1.extend(sorted(list2, reverse=True))\n",
    "list1"
   ]
  },
  {
   "cell_type": "code",
   "execution_count": 14,
   "id": "b9a7ca4b",
   "metadata": {},
   "outputs": [
    {
     "name": "stdout",
     "output_type": "stream",
     "text": [
      "Enter a number:22\n",
      "Even numbers: 2 4 6 8 10\n",
      "Odd numbers: 1 3 5 7 9\n"
     ]
    }
   ],
   "source": [
    "#3 - Given number 1 through 10, write a program to display \"Even\" for even numbers and \"Odd\" for odd numbers.\n",
    "\n",
    "   #steps\n",
    "    #1. Apply input function to collect a number from outside\n",
    "    #2. Assign empty list to the odd numbers\n",
    "    #3. Assign empty list to the even numbers\n",
    "    #4. Given range of 1 and 11 to get 1o numbers, check for old and even numbers\n",
    "    #5. Apply append function to get the numbers one after the other.\n",
    "    \n",
    "n = int(input(\"Enter a number:\")) \n",
    "odd = [] \n",
    "even = [] \n",
    "for i in range(1,11): \n",
    "    if(i%2 == 0): \n",
    "        even.append(i) \n",
    "    else: \n",
    "        odd.append(i) \n",
    "print(\"Even numbers:\",*even) \n",
    "print(\"Odd numbers:\",*odd)\n",
    "\n"
   ]
  },
  {
   "cell_type": "code",
   "execution_count": 4,
   "id": "187a7930",
   "metadata": {},
   "outputs": [
    {
     "name": "stdout",
     "output_type": "stream",
     "text": [
      "2\n"
     ]
    }
   ],
   "source": [
    "#4. - Write a Python program to count the number of strings where the string length is 2 or more and the first and last \n",
    "# character are same from a given list of strings:['abc', 'xyz', 'aba', '1221', 'bhgsskknb', 'aa', 'd'] \n",
    "\n",
    " # Steps\n",
    "#1. define a string\n",
    "#2. Initialize the string to zero\n",
    "#3. For every sting count, the length must be min. 2\n",
    "\n",
    "def match_words(words):\n",
    "  y = 0\n",
    "\n",
    "  for word in words:\n",
    "    if len(word) > 1 and word[0] == word[-1]:\n",
    "      y += 1\n",
    "  return y\n",
    "\n",
    "print(match_words(['abc', 'xyz', 'aba', '1221']))"
   ]
  },
  {
   "cell_type": "code",
   "execution_count": null,
   "id": "b4484b03",
   "metadata": {},
   "outputs": [],
   "source": []
  },
  {
   "cell_type": "code",
   "execution_count": 13,
   "id": "74cbff59",
   "metadata": {},
   "outputs": [
    {
     "name": "stdout",
     "output_type": "stream",
     "text": [
      "Enter a number: 2\n",
      "Enter a number: 3\n",
      "Enter a number: 4\n",
      "Enter a number: 5\n",
      "Enter a number: 6\n",
      "addition is 20\n",
      "Average =  4.0\n"
     ]
    }
   ],
   "source": [
    "#5 - Write a program to collect 5 different numbers from a user and display the average of the five numbers \n",
    "# without storing the values collected at any point.\n",
    " \n",
    "    # Steps\n",
    "    #1. collect 5 numbers\n",
    "    #2. find their total\n",
    "    #3. find their average.\n",
    "    \n",
    "a = int(input('Enter a number: '))\n",
    "b = int(input('Enter a number: '))\n",
    "c= int(input('Enter a number: '))\n",
    "d= int(input('Enter a number: '))\n",
    "e = int(input('Enter a number: '))\n",
    "Total = a+b+c+d+e\n",
    "print('addition is', Total)\n",
    "average = Total /5\n",
    "print('Average = ', average)"
   ]
  },
  {
   "cell_type": "code",
   "execution_count": 1,
   "id": "aec250f5",
   "metadata": {},
   "outputs": [
    {
     "data": {
      "text/plain": [
       "{1: 'a', 2: 'b', 3: 'c', 4: 'd', 5: 'e'}"
      ]
     },
     "execution_count": 1,
     "metadata": {},
     "output_type": "execute_result"
    }
   ],
   "source": [
    "#6  write a program such that \"list1\" will act as keys while \"list2\" will act as the values of the dictionary:\n",
    "  #  - list1 = [1, 2, 3, 4, 5], list2 = [\"a\", \"b\", \"c\",\"d\", \"e\"] \n",
    "\n",
    "    # Steps\n",
    " #1.  find the zip function of L1 and L2\n",
    " #2. find the dictionary function of the result\n",
    "\n",
    "L1 = [1, 2, 3, 4, 5]\n",
    "L2 = [\"a\", \"b\", \"c\",\"d\", \"e\"]\n",
    "L3= dict(zip(L1, L2))\n",
    "L3"
   ]
  },
  {
   "cell_type": "code",
   "execution_count": null,
   "id": "38961da8",
   "metadata": {},
   "outputs": [],
   "source": []
  }
 ],
 "metadata": {
  "kernelspec": {
   "display_name": "Python 3 (ipykernel)",
   "language": "python",
   "name": "python3"
  },
  "language_info": {
   "codemirror_mode": {
    "name": "ipython",
    "version": 3
   },
   "file_extension": ".py",
   "mimetype": "text/x-python",
   "name": "python",
   "nbconvert_exporter": "python",
   "pygments_lexer": "ipython3",
   "version": "3.9.12"
  }
 },
 "nbformat": 4,
 "nbformat_minor": 5
}
